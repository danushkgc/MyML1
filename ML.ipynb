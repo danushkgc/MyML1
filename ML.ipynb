{
 "cells": [
  {
   "cell_type": "code",
   "execution_count": 1,
   "id": "04e6ce25",
   "metadata": {},
   "outputs": [
    {
     "name": "stdout",
     "output_type": "stream",
     "text": [
      "Danushka  is a student in Python class\n",
      "Taniya  is a student in Python class\n",
      "Kalalpitiya  is a student in Python class\n",
      "Jayasanka  is a student in Python class\n",
      "Milan  is a student in Python class\n"
     ]
    }
   ],
   "source": [
    "name_list = ['Danushka', 'Taniya',  'Kalalpitiya', 'Jayasanka','Milan']\n",
    "\n",
    "for name in name_list:\n",
    "    print(name, \" is a student in Python class\")"
   ]
  },
  {
   "cell_type": "code",
   "execution_count": 1,
   "id": "75907cb2",
   "metadata": {},
   "outputs": [],
   "source": [
    "def mlfunc(x):\n",
    "    y = x+2\n",
    "    return y"
   ]
  },
  {
   "cell_type": "code",
   "execution_count": null,
   "id": "7766eeb6",
   "metadata": {},
   "outputs": [],
   "source": []
  }
 ],
 "metadata": {
  "kernelspec": {
   "display_name": "Python 3",
   "language": "python",
   "name": "python3"
  },
  "language_info": {
   "codemirror_mode": {
    "name": "ipython",
    "version": 3
   },
   "file_extension": ".py",
   "mimetype": "text/x-python",
   "name": "python",
   "nbconvert_exporter": "python",
   "pygments_lexer": "ipython3",
   "version": "3.8.8"
  }
 },
 "nbformat": 4,
 "nbformat_minor": 5
}
